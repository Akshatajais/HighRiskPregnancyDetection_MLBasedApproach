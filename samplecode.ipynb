{
  "cells": [
    {
      "cell_type": "markdown",
      "metadata": {},
      "source": [
        "### High Risk Pregnancy Prediction model using Random Forest Algorithm"
      ]
    },
    {
      "cell_type": "code",
      "execution_count": 1,
      "metadata": {
        "id": "Dq5mLO2viQ3S"
      },
      "outputs": [],
      "source": [
        "#!pip install pandas scikit-learn matplotlib seaborn\n",
        "#Import libraries\n",
        "import pandas as pd\n",
        "import numpy as np\n",
        "from sklearn.model_selection import train_test_split\n",
        "from sklearn.preprocessing import StandardScaler\n",
        "from sklearn.ensemble import RandomForestClassifier\n",
        "from sklearn.metrics import classification_report, confusion_matrix\n",
        "import seaborn as sns\n",
        "import matplotlib.pyplot as plt\n",
        "from sklearn.preprocessing import LabelEncoder\n",
        "\n"
      ]
    },
    {
      "cell_type": "code",
      "execution_count": 2,
      "metadata": {
        "colab": {
          "base_uri": "https://localhost:8080/",
          "height": 199
        },
        "id": "yhsH6jD5iVQ0",
        "outputId": "7dbd021b-2f5b-4823-9004-6feda0e3810f"
      },
      "outputs": [
        {
          "name": "stdout",
          "output_type": "stream",
          "text": [
            "Dataset loaded\n",
            "First 5 rows:\n",
            "   Age  SystolicBP  DiastolicBP    BS  BodyTemp  HeartRate  RiskLevel\n",
            "0   25         130           80  15.0      98.0         86  high risk\n",
            "1   35         140           90  13.0      98.0         70  high risk\n",
            "2   29          90           70   8.0     100.0         80  high risk\n",
            "3   30         140           85   7.0      98.0         70  high risk\n",
            "4   35         120           60   6.1      98.0         76   low risk\n"
          ]
        }
      ],
      "source": [
        "csv_file = \"Maternal Health Risk Data Set.csv\"\n",
        "\n",
        "# Read CSV into DataFrame\n",
        "df = pd.read_csv(csv_file)\n",
        "\n",
        "print(\"Dataset loaded\")\n",
        "print(\"First 5 rows:\")\n",
        "print(df.head())\n"
      ]
    },
    {
      "cell_type": "code",
      "execution_count": 3,
      "metadata": {
        "colab": {
          "base_uri": "https://localhost:8080/",
          "height": 1000
        },
        "id": "idG-BngsiZ9W",
        "outputId": "1e8b5098-fabc-46ee-f17a-7904cdd4eee5"
      },
      "outputs": [],
      "source": [
        "# Modify Dataset\n",
        "X = df.drop(columns=[\"RiskLevel\"])\n",
        "y = df[\"RiskLevel\"]\n"
      ]
    },
    {
      "cell_type": "code",
      "execution_count": 4,
      "metadata": {},
      "outputs": [
        {
          "name": "stdout",
          "output_type": "stream",
          "text": [
            "Class mapping: {'high risk': np.int64(0), 'low risk': np.int64(1), 'mid risk': np.int64(2)}\n"
          ]
        }
      ],
      "source": [
        "# Encode target labels\n",
        "le = LabelEncoder()\n",
        "y_encoded = le.fit_transform(y) #Output coloumn\n",
        "print(\"Class mapping:\", dict(zip(le.classes_, le.transform(le.classes_))))\n"
      ]
    },
    {
      "cell_type": "code",
      "execution_count": 5,
      "metadata": {},
      "outputs": [],
      "source": [
        "X_train, X_test, y_train, y_test = train_test_split(X, \n",
        "                                                    y_encoded, \n",
        "                                                    test_size=0.2, \n",
        "                                                    random_state=42, \n",
        "                                                    stratify=y_encoded)\n",
        "scaler = StandardScaler()\n",
        "X_train_scaled = scaler.fit_transform(X_train)\n",
        "X_test_scaled = scaler.transform(X_test)\n"
      ]
    },
    {
      "cell_type": "code",
      "execution_count": 6,
      "metadata": {},
      "outputs": [
        {
          "name": "stdout",
          "output_type": "stream",
          "text": [
            "\n",
            "Classification Report:\n",
            "              precision    recall  f1-score   support\n",
            "\n",
            "   high risk       0.96      0.95      0.95        55\n",
            "    low risk       0.90      0.80      0.85        81\n",
            "    mid risk       0.75      0.87      0.81        67\n",
            "\n",
            "    accuracy                           0.86       203\n",
            "   macro avg       0.87      0.87      0.87       203\n",
            "weighted avg       0.87      0.86      0.86       203\n",
            "\n"
          ]
        }
      ],
      "source": [
        "\n",
        "# Using RandomForest model\n",
        "model = RandomForestClassifier(n_estimators=200, random_state=42)\n",
        "model.fit(X_train_scaled, y_train)\n",
        "\n",
        "# Evaluate model\n",
        "y_pred = model.predict(X_test_scaled)\n",
        "print(\"\\nClassification Report:\")\n",
        "print(classification_report(y_test, y_pred, target_names=le.classes_))\n"
      ]
    },
    {
      "cell_type": "code",
      "execution_count": 7,
      "metadata": {},
      "outputs": [
        {
          "data": {
            "image/png": "[encoded data removed]",
            "text/plain": [
              "<Figure size 600x400 with 2 Axes>"
            ]
          },
          "metadata": {},
          "output_type": "display_data"
        }
      ],
      "source": [
        "# Confusion Matrix\n",
        "cm = confusion_matrix(y_test, y_pred)\n",
        "plt.figure(figsize=(6,4))\n",
        "sns.heatmap(cm, annot=True, fmt=\"d\", cmap=\"Reds\",\n",
        "            xticklabels=le.classes_, yticklabels=le.classes_)\n",
        "plt.xlabel(\"Predicted\")\n",
        "plt.ylabel(\"Actual\")\n",
        "plt.title(\"Confusion Matrix\")\n",
        "plt.show()\n"
      ]
    },
    {
      "cell_type": "code",
      "execution_count": 8,
      "metadata": {},
      "outputs": [
        {
          "name": "stderr",
          "output_type": "stream",
          "text": [
            "/var/folders/6p/rjflbbz10cx1c9g8vlr9x4yw0000gn/T/ipykernel_16476/269370197.py:9: FutureWarning: \n",
            "\n",
            "Passing `palette` without assigning `hue` is deprecated and will be removed in v0.14.0. Assign the `y` variable to `hue` and set `legend=False` for the same effect.\n",
            "\n",
            "  sns.barplot(x=\"Importance\", y=\"Feature\", data=feature_importance_df, palette=\"viridis\")\n"
          ]
        },
        {
          "data": {
            "image/png": "[encoded data removed]",
            "text/plain": [
              "<Figure size 800x500 with 1 Axes>"
            ]
          },
          "metadata": {},
          "output_type": "display_data"
        }
      ],
      "source": [
        "\n",
        "#Weightage of each factors\n",
        "importances = model.feature_importances_\n",
        "feature_importance_df = pd.DataFrame({\n",
        "    \"Feature\": X.columns,\n",
        "    \"Importance\": importances\n",
        "}).sort_values(by=\"Importance\", ascending=False)\n",
        "\n",
        "plt.figure(figsize=(8,5))\n",
        "sns.barplot(x=\"Importance\", y=\"Feature\", data=feature_importance_df, palette=\"viridis\")\n",
        "plt.title(\"Feature Importance for Maternal Risk Prediction\")\n",
        "plt.xlabel(\"Relative Importance\")\n",
        "plt.ylabel(\"Feature\")\n",
        "plt.show()\n"
      ]
    },
    {
      "cell_type": "code",
      "execution_count": 9,
      "metadata": {},
      "outputs": [],
      "source": [
        "\n",
        "# Prediction Model\n",
        "def predict_new_patient(data_dict):\n",
        "    \"\"\"\n",
        "    data_dict: dictionary with keys matching feature names from dataset\n",
        "    Example: {\"Age\": 30, \"SystolicBP\": 130, \"DiastolicBP\": 80, \"BS\": 12, \"BodyTemp\": 98.6, \"HeartRate\": 75}\n",
        "    \"\"\"\n",
        "    new_df = pd.DataFrame([data_dict])\n",
        "    new_scaled = scaler.transform(new_df)\n",
        "    pred_class = model.predict(new_scaled)[0]\n",
        "    return le.inverse_transform([pred_class])[0]\n"
      ]
    },
    {
      "cell_type": "code",
      "execution_count": 10,
      "metadata": {},
      "outputs": [
        {
          "name": "stdout",
          "output_type": "stream",
          "text": [
            "\n",
            "Example patient prediction: high risk\n"
          ]
        }
      ],
      "source": [
        "\n",
        "# Test Data:\n",
        "example_patient = {\n",
        "    \"Age\": 28,\n",
        "    \"SystolicBP\": 120,\n",
        "    \"DiastolicBP\": 80,\n",
        "    \"BS\": 10.5,\n",
        "    \"BodyTemp\": 98.2,\n",
        "    \"HeartRate\": 78\n",
        "}\n",
        "print(\"\\nExample patient prediction:\", predict_new_patient(example_patient))"
      ]
    }
  ],
  "metadata": {
    "colab": {
      "provenance": []
    },
    "kernelspec": {
      "display_name": ".venv",
      "language": "python",
      "name": ".venv"
    },
    "language_info": {
      "codemirror_mode": {
        "name": "ipython",
        "version": 3
      },
      "file_extension": ".py",
      "mimetype": "text/x-python",
      "name": "python",
      "nbconvert_exporter": "python",
      "pygments_lexer": "ipython3",
      "version": "3.13.6"
    }
  },
  "nbformat": 4,
  "nbformat_minor": 0
}
