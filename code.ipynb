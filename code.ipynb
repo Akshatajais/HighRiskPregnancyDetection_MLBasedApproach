{
 "cells": [
  {
   "cell_type": "markdown",
   "id": "c298f5c3-b5d9-41ab-8a79-116f2a0333f8",
   "metadata": {},
   "source": [
    " # High-Risk Pregnancy Prediction Pipeline\n",
    " Hybrid ML + Feature Selection + Hyperparameter Optimization + XAI"
   ]
  },
  {
   "cell_type": "code",
   "execution_count": 1,
   "id": "367090ab-7d6d-4192-89c5-60accc305e93",
   "metadata": {},
   "outputs": [
    {
     "name": "stderr",
     "output_type": "stream",
     "text": [
      "/Users/akshata/Desktop/JupyterLab/.venv/lib/python3.13/site-packages/tqdm/auto.py:21: TqdmWarning: IProgress not found. Please update jupyter and ipywidgets. See https://ipywidgets.readthedocs.io/en/stable/user_install.html\n",
      "  from .autonotebook import tqdm as notebook_tqdm\n"
     ]
    }
   ],
   "source": [
    "import pandas as pd\n",
    "import numpy as np\n",
    "import matplotlib.pyplot as plt\n",
    "import seaborn as sns\n",
    "\n",
    "from sklearn.model_selection import train_test_split, cross_val_score\n",
    "from sklearn.preprocessing import LabelEncoder, StandardScaler\n",
    "from sklearn.pipeline import Pipeline\n",
    "from sklearn.impute import SimpleImputer\n",
    "from sklearn.compose import ColumnTransformer\n",
    "from sklearn.linear_model import LogisticRegression\n",
    "from sklearn.ensemble import RandomForestClassifier, GradientBoostingClassifier, StackingClassifier, VotingClassifier\n",
    "from sklearn.base import BaseEstimator, ClassifierMixin\n",
    "\n",
    "from xgboost import XGBClassifier\n",
    "\n",
    "from sklearn.metrics import classification_report, confusion_matrix, roc_auc_score, accuracy_score\n",
    "from sklearn.feature_selection import RFE\n",
    "from sklearn.inspection import permutation_importance, PartialDependenceDisplay\n",
    "import shap\n",
    "from sklearn.model_selection import cross_val_score\n",
    "from sklearn.base import clone\n",
    "import random\n",
    "from sklearn.preprocessing import MinMaxScaler\n",
    "from sklearn.feature_selection import RFE, chi2, mutual_info_classif\n",
    "\n",
    "\n",
    "\n",
    "import warnings\n",
    "warnings.filterwarnings(\"ignore\")"
   ]
  },
  {
   "cell_type": "markdown",
   "id": "10baad69-6076-422d-90b7-2aa43e611611",
   "metadata": {},
   "source": [
    " ## 1. Load Dataset"
   ]
  },
  {
   "cell_type": "code",
   "execution_count": 2,
   "id": "18a49077-3a80-4ee8-ae67-b5a59f19de6e",
   "metadata": {},
   "outputs": [
    {
     "name": "stdout",
     "output_type": "stream",
     "text": [
      "Target mapping: {'High': np.int64(0), 'Low': np.int64(1)}\n"
     ]
    }
   ],
   "source": [
    "df = pd.read_csv(\"BaseDataset.csv\")\n",
    "df = df.dropna(subset=[\"Risk Level\"])\n",
    "\n",
    "target = \"Risk Level\"\n",
    "X = df.drop(columns=[target])\n",
    "y = df[target]\n",
    "\n",
    "# encode target\n",
    "le = LabelEncoder()\n",
    "y_enc = le.fit_transform(y)\n",
    "print(\"Target mapping:\", dict(zip(le.classes_, le.transform(le.classes_))))\n",
    "\n",
    "# split\n",
    "X_train, X_test, y_train, y_test = train_test_split(\n",
    "    X, y_enc, test_size=0.2, random_state=42, stratify=y_enc\n",
    ")"
   ]
  },
  {
   "cell_type": "markdown",
   "id": "cc560fec-8ee5-4165-8753-c104b1a100f6",
   "metadata": {},
   "source": [
    " ## 2. Preprocessing"
   ]
  },
  {
   "cell_type": "code",
   "execution_count": 3,
   "id": "65425b27-4903-4893-be14-1abd08c2f69d",
   "metadata": {},
   "outputs": [],
   "source": [
    "numeric_features = X.select_dtypes(include=[np.number]).columns.tolist()\n",
    "numeric_transformer = Pipeline(steps=[\n",
    "    (\"imputer\", SimpleImputer(strategy=\"mean\")),\n",
    "    (\"scaler\", StandardScaler())\n",
    "])\n",
    "\n",
    "preprocess = ColumnTransformer(\n",
    "    transformers=[(\"num\", numeric_transformer, numeric_features)],\n",
    "    remainder=\"drop\"\n",
    ")"
   ]
  },
  {
   "cell_type": "markdown",
   "id": "43df46a1-dc1d-4065-b630-9f3b8c255607",
   "metadata": {},
   "source": [
    " ## 3. Baseline Models"
   ]
  },
  {
   "cell_type": "code",
   "execution_count": 4,
   "id": "3353cef1-3e40-4993-a03a-52b8071a92e3",
   "metadata": {},
   "outputs": [
    {
     "name": "stdout",
     "output_type": "stream",
     "text": [
      "LogReg Accuracy: 0.9706\n",
      "Classification Report for LogReg:\n",
      "\n",
      "              precision    recall  f1-score   support\n",
      "\n",
      "           0     0.9783    0.9474    0.9626        95\n",
      "           1     0.9658    0.9860    0.9758       143\n",
      "\n",
      "    accuracy                         0.9706       238\n",
      "   macro avg     0.9720    0.9667    0.9692       238\n",
      "weighted avg     0.9707    0.9706    0.9705       238\n",
      "\n",
      "RF Accuracy: 0.9958\n",
      "Classification Report for RF:\n",
      "\n",
      "              precision    recall  f1-score   support\n",
      "\n",
      "           0     1.0000    0.9895    0.9947        95\n",
      "           1     0.9931    1.0000    0.9965       143\n",
      "\n",
      "    accuracy                         0.9958       238\n",
      "   macro avg     0.9965    0.9947    0.9956       238\n",
      "weighted avg     0.9958    0.9958    0.9958       238\n",
      "\n",
      "XGB Accuracy: 0.9958\n",
      "Classification Report for XGB:\n",
      "\n",
      "              precision    recall  f1-score   support\n",
      "\n",
      "           0     1.0000    0.9895    0.9947        95\n",
      "           1     0.9931    1.0000    0.9965       143\n",
      "\n",
      "    accuracy                         0.9958       238\n",
      "   macro avg     0.9965    0.9947    0.9956       238\n",
      "weighted avg     0.9958    0.9958    0.9958       238\n",
      "\n",
      "GB Accuracy: 0.9916\n",
      "Classification Report for GB:\n",
      "\n",
      "              precision    recall  f1-score   support\n",
      "\n",
      "           0     1.0000    0.9789    0.9894        95\n",
      "           1     0.9862    1.0000    0.9931       143\n",
      "\n",
      "    accuracy                         0.9916       238\n",
      "   macro avg     0.9931    0.9895    0.9912       238\n",
      "weighted avg     0.9917    0.9916    0.9916       238\n",
      "\n",
      "\n",
      "Overall Model Performance:\n",
      "    Model  Accuracy\n",
      "0      RF  0.995798\n",
      "1     XGB  0.995798\n",
      "2      GB  0.991597\n",
      "3  LogReg  0.970588\n"
     ]
    }
   ],
   "source": [
    "models = {\n",
    "    \"LogReg\": LogisticRegression(max_iter=1000),\n",
    "    \"RF\": RandomForestClassifier(random_state=42),\n",
    "    \"XGB\": XGBClassifier(eval_metric=\"logloss\", use_label_encoder=False),\n",
    "    \"GB\": GradientBoostingClassifier()\n",
    "}\n",
    "\n",
    "results = {}\n",
    "probas={}\n",
    "for name, model in models.items():\n",
    "    clf = Pipeline(steps=[(\"preprocess\", preprocess), (\"model\", model)])\n",
    "    clf.fit(X_train, y_train)\n",
    "    y_pred = clf.predict(X_test)\n",
    "    ml_proba = clf.predict_proba(X_test)\n",
    "\n",
    "    acc = accuracy_score(y_test, y_pred)\n",
    "    results[name] = acc\n",
    "    probas[name] = ml_proba\n",
    "\n",
    "    print(f\"{name} Accuracy: {acc:.4f}\")\n",
    "    print(f\"Classification Report for {name}:\\n\")\n",
    "    print(classification_report(y_test, y_pred, digits=4))\n",
    "results_df = pd.DataFrame(list(results.items()), columns=[\"Model\", \"Accuracy\"])\n",
    "results_df = results_df.sort_values(by=\"Accuracy\", ascending=False).reset_index(drop=True)\n",
    "\n",
    "print(\"\\nOverall Model Performance:\")\n",
    "print(results_df)"
   ]
  },
  {
   "cell_type": "markdown",
   "metadata": {},
   "source": [
    "## Applying Clinical Thresholds"
   ]
  },
  {
   "cell_type": "code",
   "execution_count": 5,
   "metadata": {},
   "outputs": [],
   "source": [
    "def clinical_rules(X, classes):\n",
    "    proba = np.zeros((len(X), len(classes)))\n",
    "    idx_low = np.where(classes == 0)[0][0] if 0 in classes else None\n",
    "    idx_high = np.where(classes == 1)[0][0] if 1 in classes else None\n",
    "\n",
    "    for i in range(len(X)):\n",
    "        sbp = X.iloc[i][\"Systolic BP\"]\n",
    "        dbp = X.iloc[i][\"Diastolic\"]\n",
    "        bs = X.iloc[i][\"BS\"]\n",
    "        temp = X.iloc[i][\"Body Temp\"]\n",
    "        bmi = X.iloc[i][\"BMI\"]\n",
    "        hr = X.iloc[i].get(\"HR\", np.nan)     # optional\n",
    "        preD = X.iloc[i].get(\"PreDiabetes\", 0)\n",
    "        gdm = X.iloc[i].get(\"GDM\", 0)\n",
    "        prev = X.iloc[i].get(\"PrevComplications\", 0)\n",
    "        mh = X.iloc[i].get(\"MH\", 0)\n",
    "\n",
    "        high_flags = 0\n",
    "        moderate_flags = 0\n",
    "\n",
    "        # High-risk thresholds\n",
    "        if pd.notna(sbp) and sbp >= 140: high_flags += 1\n",
    "        if pd.notna(dbp) and dbp >= 90:  high_flags += 1\n",
    "        if pd.notna(bs) and bs >= 7.8:   high_flags += 1\n",
    "        if pd.notna(bmi) and bmi >= 35:  high_flags += 1\n",
    "        if pd.notna(temp) and temp >= 100.4: high_flags += 1\n",
    "        if pd.notna(hr) and (hr >= 110 or hr <= 50): high_flags += 1\n",
    "        if preD == 1 or gdm == 1: high_flags += 1\n",
    "        if prev == 1: high_flags += 1\n",
    "\n",
    "        # Moderate thresholds\n",
    "        if pd.notna(sbp) and 130 <= sbp < 140: moderate_flags += 1\n",
    "        if pd.notna(dbp) and 85 <= dbp < 90:   moderate_flags += 1\n",
    "        if pd.notna(bs) and 6.7 <= bs < 7.8:   moderate_flags += 1\n",
    "        if pd.notna(bmi) and 30 <= bmi < 35:   moderate_flags += 1\n",
    "        if mh == 1: moderate_flags += 1\n",
    "\n",
    "        \n",
    "        base = np.ones(len(classes), dtype=float) / len(classes)\n",
    "\n",
    "        if high_flags >= 1 and idx_high is not None:\n",
    "            base *= 0.2\n",
    "            base[idx_high] = 0.8\n",
    "        elif moderate_flags >= 2 and idx_high is not None and idx_low is not None:\n",
    "            base *= 0.2\n",
    "            base[idx_high] = 0.6\n",
    "            base[idx_low]  = 0.2\n",
    "        elif idx_low is not None:\n",
    "            base *= 0.2\n",
    "            base[idx_low] = 0.8\n",
    "\n",
    "        proba[i] = base\n",
    "\n",
    "    return proba\n",
    "\n"
   ]
  },
  {
   "cell_type": "code",
   "execution_count": 6,
   "metadata": {},
   "outputs": [
    {
     "name": "stdout",
     "output_type": "stream",
     "text": [
      "============================================================\n",
      "LogReg Hybrid Accuracy (Dynamic α): 0.9706\n",
      "              precision    recall  f1-score   support\n",
      "\n",
      "        High       0.98      0.95      0.96        95\n",
      "         Low       0.97      0.99      0.98       143\n",
      "\n",
      "    accuracy                           0.97       238\n",
      "   macro avg       0.97      0.97      0.97       238\n",
      "weighted avg       0.97      0.97      0.97       238\n",
      "\n",
      "============================================================\n",
      "RF Hybrid Accuracy (Dynamic α): 0.9958\n",
      "              precision    recall  f1-score   support\n",
      "\n",
      "        High       1.00      0.99      0.99        95\n",
      "         Low       0.99      1.00      1.00       143\n",
      "\n",
      "    accuracy                           1.00       238\n",
      "   macro avg       1.00      0.99      1.00       238\n",
      "weighted avg       1.00      1.00      1.00       238\n",
      "\n",
      "============================================================\n",
      "XGB Hybrid Accuracy (Dynamic α): 0.9958\n",
      "              precision    recall  f1-score   support\n",
      "\n",
      "        High       1.00      0.99      0.99        95\n",
      "         Low       0.99      1.00      1.00       143\n",
      "\n",
      "    accuracy                           1.00       238\n",
      "   macro avg       1.00      0.99      1.00       238\n",
      "weighted avg       1.00      1.00      1.00       238\n",
      "\n",
      "============================================================\n",
      "GB Hybrid Accuracy (Dynamic α): 0.9916\n",
      "              precision    recall  f1-score   support\n",
      "\n",
      "        High       1.00      0.98      0.99        95\n",
      "         Low       0.99      1.00      0.99       143\n",
      "\n",
      "    accuracy                           0.99       238\n",
      "   macro avg       0.99      0.99      0.99       238\n",
      "weighted avg       0.99      0.99      0.99       238\n",
      "\n"
     ]
    }
   ],
   "source": [
    "hybrid_results = {}\n",
    "\n",
    "for name, model in models.items():\n",
    "    clf = Pipeline(steps=[(\"preprocess\", preprocess), (\"model\", model)])\n",
    "    clf.fit(X_train, y_train)\n",
    "\n",
    "    ml_proba = clf.predict_proba(X_test.reset_index(drop=True))\n",
    "    rules_proba = clinical_rules(X_test.reset_index(drop=True), le.classes_)\n",
    "\n",
    "    # Dynamic alpha: if rules say \"strong high risk\", use higher weight\n",
    "    hybrid_proba = np.zeros_like(ml_proba)\n",
    "    for i in range(len(X_test)):\n",
    "        if rules_proba[i].max() >= 0.8:   # strong rule → trust rules more\n",
    "            alpha = 0.7\n",
    "        elif rules_proba[i].max() >= 0.6: # moderate → balance\n",
    "            alpha = 0.5\n",
    "        else:                             # weak rule → trust ML more\n",
    "            alpha = 0.2\n",
    "\n",
    "        hybrid_proba[i] = alpha * rules_proba[i] + (1 - alpha) * ml_proba[i]\n",
    "\n",
    "    hybrid_pred = hybrid_proba.argmax(axis=1)\n",
    "    hyb_acc = accuracy_score(y_test, hybrid_pred)\n",
    "\n",
    "    hybrid_results[name] = hyb_acc\n",
    "    print(\"=\"*60)\n",
    "    print(f\"{name} Hybrid Accuracy (Dynamic α): {hyb_acc:.4f}\")\n",
    "    print(classification_report(y_test, hybrid_pred, target_names=le.classes_))"
   ]
  },
  {
   "cell_type": "markdown",
   "id": "a4fc4336-5076-4a85-8b1f-b9afb975fb37",
   "metadata": {},
   "source": [
    " ## 4. Stacking & Voting (Hybrid Models)"
   ]
  },
  {
   "cell_type": "code",
   "execution_count": 7,
   "id": "d309beda-f84f-40eb-9557-ea16c269510a",
   "metadata": {},
   "outputs": [
    {
     "name": "stdout",
     "output_type": "stream",
     "text": [
      "Stacking Accuracy: 0.9916\n",
      "Voting Accuracy: 0.9916\n"
     ]
    }
   ],
   "source": [
    "estimators = [\n",
    "    ('lr', LogisticRegression(max_iter=1000)),\n",
    "    ('rf', RandomForestClassifier(random_state=42)),\n",
    "    ('xgb', XGBClassifier(eval_metric=\"logloss\", use_label_encoder=False))\n",
    "]\n",
    "\n",
    "stacking = StackingClassifier(\n",
    "    estimators=estimators,\n",
    "    final_estimator=LogisticRegression(max_iter=1000)\n",
    ")\n",
    "\n",
    "voting = VotingClassifier(\n",
    "    estimators=estimators,\n",
    "    voting='soft'\n",
    ")\n",
    "\n",
    "hybrid_models = {\"Stacking\": stacking, \"Voting\": voting}\n",
    "\n",
    "for name, model in hybrid_models.items():\n",
    "    clf = Pipeline(steps=[(\"preprocess\", preprocess), (\"model\", model)])\n",
    "    clf.fit(X_train, y_train)\n",
    "    y_pred = clf.predict(X_test)\n",
    "    acc = accuracy_score(y_test, y_pred)\n",
    "    results[name] = acc\n",
    "    print(f\"{name} Accuracy: {acc:.4f}\")"
   ]
  },
  {
   "cell_type": "markdown",
   "id": "c14a5135-0643-4d44-92da-3f89e2839598",
   "metadata": {},
   "source": [
    " ## 5. Feature Selection "
   ]
  },
  {
   "cell_type": "markdown",
   "metadata": {},
   "source": [
    "### XG Boost"
   ]
  },
  {
   "cell_type": "code",
   "execution_count": 8,
   "id": "5b0eb9e5-d4fb-479c-b3c4-3cc935b597f3",
   "metadata": {},
   "outputs": [],
   "source": [
    "def xgb_importance(X, y):\n",
    "    model = XGBClassifier(eval_metric=\"logloss\", use_label_encoder=False, random_state=42)\n",
    "    model.fit(X, y)\n",
    "    return model.feature_importances_"
   ]
  },
  {
   "cell_type": "markdown",
   "metadata": {},
   "source": [
    "### Recursive Feature Elimination"
   ]
  },
  {
   "cell_type": "code",
   "execution_count": 9,
   "metadata": {},
   "outputs": [],
   "source": [
    "\n",
    "# -------------------------------\n",
    "# 2. RFE Wrapper\n",
    "# -------------------------------\n",
    "def rfe_selection(X, y, n_features=10):\n",
    "    base = RandomForestClassifier(random_state=42)\n",
    "    selector = RFE(base, n_features_to_select=n_features, step=1)\n",
    "    selector.fit(X, y)\n",
    "    return selector.support_, selector.ranking_\n"
   ]
  },
  {
   "cell_type": "markdown",
   "metadata": {},
   "source": [
    "### Genetic Algorithm"
   ]
  },
  {
   "cell_type": "code",
   "execution_count": 10,
   "metadata": {},
   "outputs": [],
   "source": [
    "\n",
    "def ga_feature_selection(X, y, generations=10, population_size=8):\n",
    "    def fitness(features):\n",
    "        model = RandomForestClassifier(random_state=42)\n",
    "        model.fit(X.iloc[:, features], y)\n",
    "        return accuracy_score(y, model.predict(X.iloc[:, features]))\n",
    "\n",
    "    n_features = X.shape[1]\n",
    "    population = [random.sample(range(n_features), n_features//2) for _ in range(population_size)]\n",
    "\n",
    "    for _ in range(generations):\n",
    "        scores = [fitness(ind) for ind in population]\n",
    "        sorted_idx = np.argsort(scores)[::-1]\n",
    "        survivors = [population[i] for i in sorted_idx[:population_size//2]]\n",
    "        new_pop = survivors.copy()\n",
    "        while len(new_pop) < population_size:\n",
    "            p1, p2 = random.sample(survivors, 2)\n",
    "            child = list(set(p1[:len(p1)//2] + p2[len(p2)//2:]))\n",
    "            if random.random() < 0.2:\n",
    "                child.append(random.randint(0, n_features-1))\n",
    "            new_pop.append(list(set(child)))\n",
    "        population = new_pop\n",
    "\n",
    "    best = max(population, key=fitness)\n",
    "    return best\n"
   ]
  },
  {
   "cell_type": "markdown",
   "metadata": {},
   "source": [
    "### Particle Swarm Optimization"
   ]
  },
  {
   "cell_type": "code",
   "execution_count": 11,
   "metadata": {},
   "outputs": [],
   "source": [
    "\n",
    "def pso_feature_selection(X, y, n_particles=10, iterations=10):\n",
    "    n_features = X.shape[1]\n",
    "    particles = np.random.randint(0, 2, size=(n_particles, n_features))\n",
    "    velocities = np.random.rand(n_particles, n_features)\n",
    "    personal_best = particles.copy()\n",
    "    global_best = particles[0].copy()\n",
    "\n",
    "    def fitness(mask):\n",
    "        cols = np.where(mask == 1)[0]\n",
    "        if len(cols) == 0:\n",
    "            return 0\n",
    "        model = RandomForestClassifier(random_state=42)\n",
    "        model.fit(X.iloc[:, cols], y)\n",
    "        return accuracy_score(y, model.predict(X.iloc[:, cols]))\n",
    "\n",
    "    best_score = 0\n",
    "    for i in range(n_particles):\n",
    "        score = fitness(particles[i])\n",
    "        if score > best_score:\n",
    "            best_score = score\n",
    "            global_best = particles[i].copy()\n",
    "\n",
    "    for _ in range(iterations):\n",
    "        for i in range(n_particles):\n",
    "            r1, r2 = np.random.rand(), np.random.rand()\n",
    "            velocities[i] = velocities[i] + r1*(personal_best[i]-particles[i]) + r2*(global_best-particles[i])\n",
    "            particles[i] = (np.random.rand(n_features) < 1/(1+np.exp(-velocities[i]))).astype(int)\n",
    "\n",
    "            score = fitness(particles[i])\n",
    "            if score > fitness(personal_best[i]):\n",
    "                personal_best[i] = particles[i].copy()\n",
    "            if score > best_score:\n",
    "                best_score = score\n",
    "                global_best = particles[i].copy()\n",
    "\n",
    "    return np.where(global_best == 1)[0]\n"
   ]
  },
  {
   "cell_type": "markdown",
   "metadata": {},
   "source": [
    "### Chi-Square"
   ]
  },
  {
   "cell_type": "code",
   "execution_count": 12,
   "metadata": {},
   "outputs": [],
   "source": [
    "\n",
    "\n",
    "def chi2_selection(X, y):\n",
    "    X_filled = SimpleImputer(strategy=\"median\").fit_transform(X)\n",
    "    # MinMax scaling to ensure non-negative\n",
    "    X_scaled = MinMaxScaler().fit_transform(X_filled)\n",
    "    scores, _ = chi2(X_scaled, y)\n",
    "    return scores"
   ]
  },
  {
   "cell_type": "markdown",
   "metadata": {},
   "source": [
    "### Mutual Imformation"
   ]
  },
  {
   "cell_type": "code",
   "execution_count": 13,
   "metadata": {},
   "outputs": [],
   "source": [
    "def mi_selection(X, y):\n",
    "    \n",
    "    X_filled = SimpleImputer(strategy=\"median\").fit_transform(X)\n",
    "    X_scaled = MinMaxScaler().fit_transform(X_filled)\n",
    "    scores = mutual_info_classif(X_scaled, y, random_state=42)\n",
    "    return scores\n"
   ]
  },
  {
   "cell_type": "markdown",
   "metadata": {},
   "source": [
    "### SHAP"
   ]
  },
  {
   "cell_type": "code",
   "execution_count": 14,
   "metadata": {},
   "outputs": [],
   "source": [
    "\n",
    "\n",
    "def shap_importance(X, y):\n",
    "    model = XGBClassifier(eval_metric=\"logloss\", use_label_encoder=False, random_state=42)\n",
    "    model.fit(X, y)\n",
    "    explainer = shap.TreeExplainer(model)\n",
    "    shap_values = explainer.shap_values(X)\n",
    "    return np.abs(shap_values).mean(axis=0)\n"
   ]
  },
  {
   "cell_type": "markdown",
   "metadata": {},
   "source": [
    "### Permutation Importance"
   ]
  },
  {
   "cell_type": "code",
   "execution_count": 15,
   "metadata": {},
   "outputs": [],
   "source": [
    "\n",
    "def permutation_importance_scores(X, y):\n",
    "    model = RandomForestClassifier(random_state=42)\n",
    "    model.fit(X, y)\n",
    "    result = permutation_importance(model, X, y, n_repeats=10, random_state=42, n_jobs=-1)\n",
    "    return result.importances_mean"
   ]
  },
  {
   "cell_type": "markdown",
   "metadata": {},
   "source": [
    "## Output of all Feature Importance"
   ]
  },
  {
   "cell_type": "code",
   "execution_count": 16,
   "metadata": {},
   "outputs": [
    {
     "name": "stdout",
     "output_type": "stream",
     "text": [
      "\n",
      "=== Feature Selection Results ===\n",
      "\n",
      "                   Feature       XGB  RFE_Ranking  RFE_Selected  GA_Selected  \\\n",
      "0                      Age  0.011786            1          True            0   \n",
      "1              Systolic BP  0.017750            1          True            0   \n",
      "2                Diastolic  0.006036            1          True            1   \n",
      "3                       BS  0.243390            1          True            1   \n",
      "4                Body Temp  0.019006            2         False            0   \n",
      "5                      BMI  0.100891            1          True            0   \n",
      "6   Previous Complications  0.037150            1          True            0   \n",
      "7     Preexisting Diabetes  0.132755            1          True            1   \n",
      "8     Gestational Diabetes  0.236415            1          True            0   \n",
      "9            Mental Health  0.076441            1          True            1   \n",
      "10              Heart Rate  0.118379            1          True            1   \n",
      "\n",
      "    PSO_Selected        Chi2        MI      SHAP  Permutation  \n",
      "0              1    0.439174  0.034588  0.277800     0.001686  \n",
      "1              0    4.285091  0.089941  0.472503     0.003161  \n",
      "2              1    5.340597  0.121277  0.253905     0.000000  \n",
      "3              1   43.302745  0.324963  1.217690     0.028662  \n",
      "4              1    7.094938  0.031377  0.114351     0.000000  \n",
      "5              1    4.400280  0.441288  2.182138     0.022445  \n",
      "6              0  220.744938  0.159836  0.187250     0.001475  \n",
      "7              1  312.228833  0.252296  1.648556     0.070495  \n",
      "8              0  169.947230  0.105753  0.621614     0.075553  \n",
      "9              1  254.160988  0.206791  1.596453     0.014331  \n",
      "10             1   19.330558  0.342857  1.200043     0.015385  \n",
      "\n",
      "=== Top Features by SHAP ===\n",
      "\n",
      "                   Feature       XGB  RFE_Ranking  RFE_Selected  GA_Selected  \\\n",
      "5                      BMI  0.100891            1          True            0   \n",
      "7     Preexisting Diabetes  0.132755            1          True            1   \n",
      "9            Mental Health  0.076441            1          True            1   \n",
      "3                       BS  0.243390            1          True            1   \n",
      "10              Heart Rate  0.118379            1          True            1   \n",
      "8     Gestational Diabetes  0.236415            1          True            0   \n",
      "1              Systolic BP  0.017750            1          True            0   \n",
      "0                      Age  0.011786            1          True            0   \n",
      "2                Diastolic  0.006036            1          True            1   \n",
      "6   Previous Complications  0.037150            1          True            0   \n",
      "\n",
      "    PSO_Selected        Chi2        MI      SHAP  Permutation  \n",
      "5              1    4.400280  0.441288  2.182138     0.022445  \n",
      "7              1  312.228833  0.252296  1.648556     0.070495  \n",
      "9              1  254.160988  0.206791  1.596453     0.014331  \n",
      "3              1   43.302745  0.324963  1.217690     0.028662  \n",
      "10             1   19.330558  0.342857  1.200043     0.015385  \n",
      "8              0  169.947230  0.105753  0.621614     0.075553  \n",
      "1              0    4.285091  0.089941  0.472503     0.003161  \n",
      "0              1    0.439174  0.034588  0.277800     0.001686  \n",
      "2              1    5.340597  0.121277  0.253905     0.000000  \n",
      "6              0  220.744938  0.159836  0.187250     0.001475  \n"
     ]
    }
   ],
   "source": [
    "\n",
    "def run_all_feature_selection(X, y):\n",
    "    results = pd.DataFrame({\"Feature\": X.columns})\n",
    "\n",
    "    # 1. XGBoost Embedded\n",
    "    results[\"XGB\"] = xgb_importance(X, y)\n",
    "\n",
    "    # 2. RFE\n",
    "    support, ranking = rfe_selection(X, y, n_features=10)\n",
    "    results[\"RFE_Ranking\"] = ranking\n",
    "    results[\"RFE_Selected\"] = support\n",
    "\n",
    "    # 3. GA\n",
    "    ga_features = ga_feature_selection(X, y)\n",
    "    results[\"GA_Selected\"] = results.index.isin(ga_features).astype(int)\n",
    "\n",
    "    # 4. PSO\n",
    "    pso_features = pso_feature_selection(X, y)\n",
    "    results[\"PSO_Selected\"] = results.index.isin(pso_features).astype(int)\n",
    "\n",
    "    # 5. Chi-Square\n",
    "    results[\"Chi2\"] = chi2_selection(X, y)\n",
    "\n",
    "    # 6. Mutual Information\n",
    "    results[\"MI\"] = mi_selection(X, y)\n",
    "\n",
    "    # 7. SHAP\n",
    "    results[\"SHAP\"] = shap_importance(X, y)\n",
    "\n",
    "    # 8. Permutation Importance\n",
    "    results[\"Permutation\"] = permutation_importance_scores(X, y)\n",
    "\n",
    "    return results\n",
    "\n",
    "\n",
    "feature_results = run_all_feature_selection(X_train, y_train)\n",
    "\n",
    "# Show all results\n",
    "print(\"\\n=== Feature Selection Results ===\\n\")\n",
    "print(feature_results)\n",
    "\n",
    "# If you want sorted by any method (e.g. SHAP):\n",
    "print(\"\\n=== Top Features by SHAP ===\\n\")\n",
    "print(feature_results.sort_values(\"SHAP\", ascending=False).head(10))"
   ]
  },
  {
   "cell_type": "markdown",
   "id": "8829bb91-9c10-410f-a052-a41c499c1ad9",
   "metadata": {},
   "source": [
    " ## 6. Hyperparameter Optimization "
   ]
  },
  {
   "cell_type": "markdown",
   "metadata": {},
   "source": [
    "### Bayesian Search"
   ]
  },
  {
   "cell_type": "code",
   "execution_count": 18,
   "metadata": {},
   "outputs": [
    {
     "name": "stdout",
     "output_type": "stream",
     "text": [
      "Best params (Bayesian): OrderedDict({'learning_rate': 0.29947261130592023, 'max_depth': 5, 'n_estimators': 261, 'subsample': 0.7901008334782119})\n",
      "Best CV score (Bayesian): 0.986299081035923\n",
      "Test Accuracy (Bayesian): 0.9915966386554622\n"
     ]
    }
   ],
   "source": [
    "from skopt import BayesSearchCV\n",
    "from skopt.space import Real, Integer\n",
    "from xgboost import XGBClassifier\n",
    "\n",
    "# Define search space\n",
    "search_space = {\n",
    "    \"n_estimators\": Integer(50, 300),\n",
    "    \"max_depth\": Integer(3, 15),\n",
    "    \"learning_rate\": Real(0.01, 0.3, prior=\"log-uniform\"),\n",
    "    \"subsample\": Real(0.5, 1.0)\n",
    "}\n",
    "\n",
    "# Initialize BayesSearchCV\n",
    "opt_bayes = BayesSearchCV(\n",
    "    estimator=XGBClassifier(use_label_encoder=False, eval_metric=\"logloss\", random_state=42),\n",
    "    search_spaces=search_space,\n",
    "    n_iter=30,          # number of parameter settings to try\n",
    "    cv=5,\n",
    "    scoring=\"accuracy\",\n",
    "    random_state=42,\n",
    "    n_jobs=-1\n",
    ")\n",
    "\n",
    "opt_bayes.fit(X_train, y_train)\n",
    "\n",
    "print(\"Best params (Bayesian):\", opt_bayes.best_params_)\n",
    "print(\"Best CV score (Bayesian):\", opt_bayes.best_score_)\n",
    "print(\"Test Accuracy (Bayesian):\", opt_bayes.score(X_test, y_test))\n"
   ]
  },
  {
   "cell_type": "markdown",
   "id": "abab31ec-a90c-4261-809b-48e732cb591c",
   "metadata": {},
   "source": [
    " ## 7. Explainable AI (XAI)"
   ]
  },
  {
   "cell_type": "code",
   "execution_count": 19,
   "id": "0794098f-3764-4cf3-8ae0-674b52929d16",
   "metadata": {},
   "outputs": [
    {
     "data": {
      "image/png": "[encoded data removed]",
      "text/plain": [
       "<Figure size 640x480 with 1 Axes>"
      ]
     },
     "metadata": {},
     "output_type": "display_data"
    },
    {
     "data": {
      "image/png": "[encoded data removed]",
      "text/plain": [
       "<Figure size 1150x660 with 2 Axes>"
      ]
     },
     "metadata": {},
     "output_type": "display_data"
    }
   ],
   "source": [
    "final_model = Pipeline(steps=[(\"preprocess\", preprocess), (\"model\", RandomForestClassifier(random_state=42))])\n",
    "final_model.fit(X_train, y_train)\n",
    "\n",
    "# Permutation Importance\n",
    "perm = permutation_importance(final_model, X_test, y_test, n_repeats=10, random_state=42)\n",
    "sorted_idx = perm.importances_mean.argsort()\n",
    "plt.barh(range(len(sorted_idx)), perm.importances_mean[sorted_idx])\n",
    "plt.yticks(range(len(sorted_idx)), np.array(numeric_features)[sorted_idx])\n",
    "plt.title(\"Permutation Importance\")\n",
    "plt.show()\n",
    "\n",
    "# SHAP values\n",
    "explainer = shap.TreeExplainer(final_model.named_steps[\"model\"])\n",
    "X_transformed = preprocess.transform(X_test)\n",
    "shap_values = explainer.shap_values(X_transformed)\n",
    "\n",
    "shap.summary_plot(shap_values, X_transformed, feature_names=numeric_features)"
   ]
  }
 ],
 "metadata": {
  "kernelspec": {
   "display_name": ".venv",
   "language": "python",
   "name": ".venv"
  },
  "language_info": {
   "codemirror_mode": {
    "name": "ipython",
    "version": 3
   },
   "file_extension": ".py",
   "mimetype": "text/x-python",
   "name": "python",
   "nbconvert_exporter": "python",
   "pygments_lexer": "ipython3",
   "version": "3.13.6"
  }
 },
 "nbformat": 4,
 "nbformat_minor": 2
}
